{
 "cells": [
  {
   "cell_type": "code",
   "execution_count": 1,
   "id": "ae83c6e7",
   "metadata": {
    "ExecuteTime": {
     "end_time": "2021-09-15T20:35:39.594288Z",
     "start_time": "2021-09-15T20:35:38.313629Z"
    }
   },
   "outputs": [],
   "source": [
    "import pandas as pd\n",
    "import matplotlib.pyplot as plt\n",
    "import seaborn as sns\n",
    "sns.set()\n",
    "%matplotlib inline\n",
    "import numpy as np\n",
    "import random\n",
    "from sklearn.decomposition import PCA\n",
    "from sklearn.model_selection import GridSearchCV\n",
    "from sklearn import metrics\n",
    "from sklearn.preprocessing import StandardScaler\n",
    "from sklearn.pipeline import Pipeline\n",
    "from sklearn.linear_model import LinearRegression\n",
    "from sklearn.ensemble import RandomForestRegressor\n",
    "from sklearn.svm import SVR\n",
    "from sklearn.ensemble import GradientBoostingRegressor"
   ]
  },
  {
   "cell_type": "markdown",
   "id": "090641a4",
   "metadata": {},
   "source": [
    "# Importando o Dataset"
   ]
  },
  {
   "cell_type": "markdown",
   "id": "b0f53a68",
   "metadata": {},
   "source": [
    "Primeiramente os dados devem ser importados. Essa coleção de dados foi disponibilizado pelos curadores da avaliação e se encontra dentro da função <i>read_csv</i> da linha a baixo."
   ]
  },
  {
   "cell_type": "code",
   "execution_count": 23,
   "id": "49afa705",
   "metadata": {
    "ExecuteTime": {
     "end_time": "2021-09-15T22:05:55.381771Z",
     "start_time": "2021-09-15T22:05:54.857849Z"
    }
   },
   "outputs": [],
   "source": [
    "df = pd.read_csv('https://raw.githubusercontent.com/manipulaeHealth/desafio-machine-learning/main/dados_preco.csv')"
   ]
  },
  {
   "cell_type": "markdown",
   "id": "662ab8a9",
   "metadata": {},
   "source": [
    "# Explorando o Dataset"
   ]
  },
  {
   "cell_type": "markdown",
   "id": "0de0a943",
   "metadata": {},
   "source": [
    "Uso o <i>.head()</i> para entender como estão distribuidos os dados."
   ]
  },
  {
   "cell_type": "code",
   "execution_count": 24,
   "id": "9aa93f3f",
   "metadata": {
    "ExecuteTime": {
     "end_time": "2021-09-15T22:05:56.043300Z",
     "start_time": "2021-09-15T22:05:56.035859Z"
    }
   },
   "outputs": [
    {
     "data": {
      "text/html": [
       "<div>\n",
       "<style scoped>\n",
       "    .dataframe tbody tr th:only-of-type {\n",
       "        vertical-align: middle;\n",
       "    }\n",
       "\n",
       "    .dataframe tbody tr th {\n",
       "        vertical-align: top;\n",
       "    }\n",
       "\n",
       "    .dataframe thead th {\n",
       "        text-align: right;\n",
       "    }\n",
       "</style>\n",
       "<table border=\"1\" class=\"dataframe\">\n",
       "  <thead>\n",
       "    <tr style=\"text-align: right;\">\n",
       "      <th></th>\n",
       "      <th>descricao</th>\n",
       "      <th>criado</th>\n",
       "      <th>qtdInsumos</th>\n",
       "      <th>calculado</th>\n",
       "      <th>correto</th>\n",
       "    </tr>\n",
       "  </thead>\n",
       "  <tbody>\n",
       "    <tr>\n",
       "      <th>0</th>\n",
       "      <td>30 CAP | BUPROPIONA CLORIDRATO  150MG</td>\n",
       "      <td>2020-08-05 23:19:09</td>\n",
       "      <td>1</td>\n",
       "      <td>47.5297</td>\n",
       "      <td>39.9</td>\n",
       "    </tr>\n",
       "    <tr>\n",
       "      <th>1</th>\n",
       "      <td>60 CAP | FINASTERIDA 1:10  1MG</td>\n",
       "      <td>2020-08-05 22:51:09</td>\n",
       "      <td>1</td>\n",
       "      <td>46.9620</td>\n",
       "      <td>43.6</td>\n",
       "    </tr>\n",
       "    <tr>\n",
       "      <th>2</th>\n",
       "      <td>60 CAP | NAC  250MG; SILIMARINA  150MG; SAME  ...</td>\n",
       "      <td>2020-08-05 22:51:09</td>\n",
       "      <td>3</td>\n",
       "      <td>105.1390</td>\n",
       "      <td>111.4</td>\n",
       "    </tr>\n",
       "    <tr>\n",
       "      <th>3</th>\n",
       "      <td>60 CAP | ANASTROZOL 1:10 0.300MG</td>\n",
       "      <td>2020-08-05 22:51:09</td>\n",
       "      <td>1</td>\n",
       "      <td>49.0314</td>\n",
       "      <td>43.6</td>\n",
       "    </tr>\n",
       "    <tr>\n",
       "      <th>4</th>\n",
       "      <td>120 CAP | DUTASTERIDA 0.250MG; TADALAFIL  10MG</td>\n",
       "      <td>2020-08-05 22:49:09</td>\n",
       "      <td>2</td>\n",
       "      <td>161.8272</td>\n",
       "      <td>146.0</td>\n",
       "    </tr>\n",
       "  </tbody>\n",
       "</table>\n",
       "</div>"
      ],
      "text/plain": [
       "                                           descricao               criado  \\\n",
       "0              30 CAP | BUPROPIONA CLORIDRATO  150MG  2020-08-05 23:19:09   \n",
       "1                     60 CAP | FINASTERIDA 1:10  1MG  2020-08-05 22:51:09   \n",
       "2  60 CAP | NAC  250MG; SILIMARINA  150MG; SAME  ...  2020-08-05 22:51:09   \n",
       "3                   60 CAP | ANASTROZOL 1:10 0.300MG  2020-08-05 22:51:09   \n",
       "4     120 CAP | DUTASTERIDA 0.250MG; TADALAFIL  10MG  2020-08-05 22:49:09   \n",
       "\n",
       "   qtdInsumos  calculado  correto  \n",
       "0           1    47.5297     39.9  \n",
       "1           1    46.9620     43.6  \n",
       "2           3   105.1390    111.4  \n",
       "3           1    49.0314     43.6  \n",
       "4           2   161.8272    146.0  "
      ]
     },
     "execution_count": 24,
     "metadata": {},
     "output_type": "execute_result"
    }
   ],
   "source": [
    "df.head()"
   ]
  },
  {
   "cell_type": "markdown",
   "id": "206668df",
   "metadata": {},
   "source": [
    "O <i>.describe</i> me retorna as estatisticas dos labels de dados contínuos, como a contagem, média, desvio padrão e min/max e os quartis."
   ]
  },
  {
   "cell_type": "code",
   "execution_count": 25,
   "id": "9b0a8f00",
   "metadata": {
    "ExecuteTime": {
     "end_time": "2021-09-15T22:05:56.397250Z",
     "start_time": "2021-09-15T22:05:56.380385Z"
    }
   },
   "outputs": [
    {
     "data": {
      "text/html": [
       "<div>\n",
       "<style scoped>\n",
       "    .dataframe tbody tr th:only-of-type {\n",
       "        vertical-align: middle;\n",
       "    }\n",
       "\n",
       "    .dataframe tbody tr th {\n",
       "        vertical-align: top;\n",
       "    }\n",
       "\n",
       "    .dataframe thead th {\n",
       "        text-align: right;\n",
       "    }\n",
       "</style>\n",
       "<table border=\"1\" class=\"dataframe\">\n",
       "  <thead>\n",
       "    <tr style=\"text-align: right;\">\n",
       "      <th></th>\n",
       "      <th>qtdInsumos</th>\n",
       "      <th>calculado</th>\n",
       "      <th>correto</th>\n",
       "    </tr>\n",
       "  </thead>\n",
       "  <tbody>\n",
       "    <tr>\n",
       "      <th>count</th>\n",
       "      <td>7121.000000</td>\n",
       "      <td>7121.000000</td>\n",
       "      <td>7121.000000</td>\n",
       "    </tr>\n",
       "    <tr>\n",
       "      <th>mean</th>\n",
       "      <td>3.281842</td>\n",
       "      <td>137.089552</td>\n",
       "      <td>135.891798</td>\n",
       "    </tr>\n",
       "    <tr>\n",
       "      <th>std</th>\n",
       "      <td>3.194301</td>\n",
       "      <td>191.266516</td>\n",
       "      <td>189.806974</td>\n",
       "    </tr>\n",
       "    <tr>\n",
       "      <th>min</th>\n",
       "      <td>1.000000</td>\n",
       "      <td>30.000100</td>\n",
       "      <td>33.000000</td>\n",
       "    </tr>\n",
       "    <tr>\n",
       "      <th>25%</th>\n",
       "      <td>1.000000</td>\n",
       "      <td>49.786100</td>\n",
       "      <td>49.500000</td>\n",
       "    </tr>\n",
       "    <tr>\n",
       "      <th>50%</th>\n",
       "      <td>2.000000</td>\n",
       "      <td>87.350300</td>\n",
       "      <td>83.100000</td>\n",
       "    </tr>\n",
       "    <tr>\n",
       "      <th>75%</th>\n",
       "      <td>4.000000</td>\n",
       "      <td>165.167000</td>\n",
       "      <td>161.200000</td>\n",
       "    </tr>\n",
       "    <tr>\n",
       "      <th>max</th>\n",
       "      <td>26.000000</td>\n",
       "      <td>10364.992500</td>\n",
       "      <td>10356.000000</td>\n",
       "    </tr>\n",
       "  </tbody>\n",
       "</table>\n",
       "</div>"
      ],
      "text/plain": [
       "        qtdInsumos     calculado       correto\n",
       "count  7121.000000   7121.000000   7121.000000\n",
       "mean      3.281842    137.089552    135.891798\n",
       "std       3.194301    191.266516    189.806974\n",
       "min       1.000000     30.000100     33.000000\n",
       "25%       1.000000     49.786100     49.500000\n",
       "50%       2.000000     87.350300     83.100000\n",
       "75%       4.000000    165.167000    161.200000\n",
       "max      26.000000  10364.992500  10356.000000"
      ]
     },
     "execution_count": 25,
     "metadata": {},
     "output_type": "execute_result"
    }
   ],
   "source": [
    "df.describe()"
   ]
  },
  {
   "cell_type": "markdown",
   "id": "5cdd880b",
   "metadata": {},
   "source": [
    "É necessário ver se existem valores nulos dentro da coleção de dados, caso exista, devem ser usadas técnicas de preenchimento desses valores para possibilitar a criação de um modelo de Aprendizado de Máquina. O <i>.info()</i> me possibilita essa visão dos dados."
   ]
  },
  {
   "cell_type": "code",
   "execution_count": 26,
   "id": "0602d1ae",
   "metadata": {
    "ExecuteTime": {
     "end_time": "2021-09-15T22:05:56.750251Z",
     "start_time": "2021-09-15T22:05:56.737360Z"
    }
   },
   "outputs": [
    {
     "name": "stdout",
     "output_type": "stream",
     "text": [
      "<class 'pandas.core.frame.DataFrame'>\n",
      "RangeIndex: 7121 entries, 0 to 7120\n",
      "Data columns (total 5 columns):\n",
      " #   Column      Non-Null Count  Dtype  \n",
      "---  ------      --------------  -----  \n",
      " 0   descricao   7121 non-null   object \n",
      " 1   criado      7121 non-null   object \n",
      " 2   qtdInsumos  7121 non-null   int64  \n",
      " 3   calculado   7121 non-null   float64\n",
      " 4   correto     7121 non-null   float64\n",
      "dtypes: float64(2), int64(1), object(2)\n",
      "memory usage: 278.3+ KB\n"
     ]
    }
   ],
   "source": [
    "df.info()"
   ]
  },
  {
   "cell_type": "code",
   "execution_count": 27,
   "id": "8b2ecd91",
   "metadata": {
    "ExecuteTime": {
     "end_time": "2021-09-15T22:05:56.935095Z",
     "start_time": "2021-09-15T22:05:56.916743Z"
    }
   },
   "outputs": [
    {
     "data": {
      "text/plain": [
       "<bound method IndexOpsMixin.value_counts of 0                   30 CAP | BUPROPIONA CLORIDRATO  150MG\n",
       "1                          60 CAP | FINASTERIDA 1:10  1MG\n",
       "2       60 CAP | NAC  250MG; SILIMARINA  150MG; SAME  ...\n",
       "3                        60 CAP | ANASTROZOL 1:10 0.300MG\n",
       "4          120 CAP | DUTASTERIDA 0.250MG; TADALAFIL  10MG\n",
       "                              ...                        \n",
       "7116    45 CAP | SERTRALINA CLORIDRATO  40MG; SLENDEST...\n",
       "7117                         120 CAP | GREENSELECT  120MG\n",
       "7118    60 CAP | MAGNESIO QUELADO 30%  220MG; SELENIO ...\n",
       "7119    30 CAP | VALERIANA  50MG; PASSIFLORA  500MG; C...\n",
       "7120    60 CAP | ACIDO TRANEXAMICO  200MG; BIOTINA 2.5...\n",
       "Name: descricao, Length: 7121, dtype: object>"
      ]
     },
     "execution_count": 27,
     "metadata": {},
     "output_type": "execute_result"
    }
   ],
   "source": [
    "df['descricao'].value_counts"
   ]
  },
  {
   "cell_type": "markdown",
   "id": "166e721a",
   "metadata": {},
   "source": [
    "Vendo a tabela 'descricao' percebo que ela é composta pela quantidade de capsulas do remédio e a matéria prima utilizada.\n",
    "Para ajudar no treinamento do modelo crio outra coluna nomeando-a de 'Capsulas', contendo a quantidade de capsulas do pedido, e outra coluna 'Medicacao' que é uma lista de todas as matérias usadas. "
   ]
  },
  {
   "cell_type": "code",
   "execution_count": 28,
   "id": "ff4d8349",
   "metadata": {
    "ExecuteTime": {
     "end_time": "2021-09-15T22:05:57.505044Z",
     "start_time": "2021-09-15T22:05:57.497604Z"
    }
   },
   "outputs": [],
   "source": [
    "lista_descricao = df['descricao'].apply(lambda x: x.split('|'))"
   ]
  },
  {
   "cell_type": "code",
   "execution_count": 29,
   "id": "a83af326",
   "metadata": {
    "ExecuteTime": {
     "end_time": "2021-09-15T22:05:57.690139Z",
     "start_time": "2021-09-15T22:05:57.684212Z"
    }
   },
   "outputs": [
    {
     "data": {
      "text/plain": [
       "['60 CAP ', ' NAC  250MG; SILIMARINA  150MG; SAME  50MG']"
      ]
     },
     "execution_count": 29,
     "metadata": {},
     "output_type": "execute_result"
    }
   ],
   "source": [
    "lista_descricao[2]"
   ]
  },
  {
   "cell_type": "code",
   "execution_count": 30,
   "id": "e6ce3f59",
   "metadata": {
    "ExecuteTime": {
     "end_time": "2021-09-15T22:05:57.875091Z",
     "start_time": "2021-09-15T22:05:57.847645Z"
    }
   },
   "outputs": [],
   "source": [
    "medicacao = [lista_descricao[i][1].split(';') for i in range(len(lista_descricao))]"
   ]
  },
  {
   "cell_type": "code",
   "execution_count": 31,
   "id": "0a994a10",
   "metadata": {
    "ExecuteTime": {
     "end_time": "2021-09-15T22:05:58.059631Z",
     "start_time": "2021-09-15T22:05:58.033312Z"
    }
   },
   "outputs": [],
   "source": [
    "capsulas = [int(lista_descricao[i][0].strip(' CAP')) for i in range(len(lista_descricao))]"
   ]
  },
  {
   "cell_type": "code",
   "execution_count": 32,
   "id": "4cd7feb9",
   "metadata": {
    "ExecuteTime": {
     "end_time": "2021-09-15T22:05:58.228970Z",
     "start_time": "2021-09-15T22:05:58.215578Z"
    }
   },
   "outputs": [],
   "source": [
    "df['Capsulas'] = capsulas"
   ]
  },
  {
   "cell_type": "code",
   "execution_count": 33,
   "id": "198b0dc9",
   "metadata": {
    "ExecuteTime": {
     "end_time": "2021-09-15T22:05:58.397669Z",
     "start_time": "2021-09-15T22:05:58.384742Z"
    }
   },
   "outputs": [],
   "source": [
    "df['Medicacao'] = medicacao"
   ]
  },
  {
   "cell_type": "code",
   "execution_count": 34,
   "id": "03d5fdd4",
   "metadata": {
    "ExecuteTime": {
     "end_time": "2021-09-15T22:05:58.567494Z",
     "start_time": "2021-09-15T22:05:58.557078Z"
    }
   },
   "outputs": [
    {
     "data": {
      "text/html": [
       "<div>\n",
       "<style scoped>\n",
       "    .dataframe tbody tr th:only-of-type {\n",
       "        vertical-align: middle;\n",
       "    }\n",
       "\n",
       "    .dataframe tbody tr th {\n",
       "        vertical-align: top;\n",
       "    }\n",
       "\n",
       "    .dataframe thead th {\n",
       "        text-align: right;\n",
       "    }\n",
       "</style>\n",
       "<table border=\"1\" class=\"dataframe\">\n",
       "  <thead>\n",
       "    <tr style=\"text-align: right;\">\n",
       "      <th></th>\n",
       "      <th>descricao</th>\n",
       "      <th>criado</th>\n",
       "      <th>qtdInsumos</th>\n",
       "      <th>calculado</th>\n",
       "      <th>correto</th>\n",
       "      <th>Capsulas</th>\n",
       "      <th>Medicacao</th>\n",
       "    </tr>\n",
       "  </thead>\n",
       "  <tbody>\n",
       "    <tr>\n",
       "      <th>0</th>\n",
       "      <td>30 CAP | BUPROPIONA CLORIDRATO  150MG</td>\n",
       "      <td>2020-08-05 23:19:09</td>\n",
       "      <td>1</td>\n",
       "      <td>47.5297</td>\n",
       "      <td>39.9</td>\n",
       "      <td>30</td>\n",
       "      <td>[ BUPROPIONA CLORIDRATO  150MG]</td>\n",
       "    </tr>\n",
       "    <tr>\n",
       "      <th>1</th>\n",
       "      <td>60 CAP | FINASTERIDA 1:10  1MG</td>\n",
       "      <td>2020-08-05 22:51:09</td>\n",
       "      <td>1</td>\n",
       "      <td>46.9620</td>\n",
       "      <td>43.6</td>\n",
       "      <td>60</td>\n",
       "      <td>[ FINASTERIDA 1:10  1MG]</td>\n",
       "    </tr>\n",
       "    <tr>\n",
       "      <th>2</th>\n",
       "      <td>60 CAP | NAC  250MG; SILIMARINA  150MG; SAME  ...</td>\n",
       "      <td>2020-08-05 22:51:09</td>\n",
       "      <td>3</td>\n",
       "      <td>105.1390</td>\n",
       "      <td>111.4</td>\n",
       "      <td>60</td>\n",
       "      <td>[ NAC  250MG,  SILIMARINA  150MG,  SAME  50MG]</td>\n",
       "    </tr>\n",
       "    <tr>\n",
       "      <th>3</th>\n",
       "      <td>60 CAP | ANASTROZOL 1:10 0.300MG</td>\n",
       "      <td>2020-08-05 22:51:09</td>\n",
       "      <td>1</td>\n",
       "      <td>49.0314</td>\n",
       "      <td>43.6</td>\n",
       "      <td>60</td>\n",
       "      <td>[ ANASTROZOL 1:10 0.300MG]</td>\n",
       "    </tr>\n",
       "    <tr>\n",
       "      <th>4</th>\n",
       "      <td>120 CAP | DUTASTERIDA 0.250MG; TADALAFIL  10MG</td>\n",
       "      <td>2020-08-05 22:49:09</td>\n",
       "      <td>2</td>\n",
       "      <td>161.8272</td>\n",
       "      <td>146.0</td>\n",
       "      <td>120</td>\n",
       "      <td>[ DUTASTERIDA 0.250MG,  TADALAFIL  10MG]</td>\n",
       "    </tr>\n",
       "  </tbody>\n",
       "</table>\n",
       "</div>"
      ],
      "text/plain": [
       "                                           descricao               criado  \\\n",
       "0              30 CAP | BUPROPIONA CLORIDRATO  150MG  2020-08-05 23:19:09   \n",
       "1                     60 CAP | FINASTERIDA 1:10  1MG  2020-08-05 22:51:09   \n",
       "2  60 CAP | NAC  250MG; SILIMARINA  150MG; SAME  ...  2020-08-05 22:51:09   \n",
       "3                   60 CAP | ANASTROZOL 1:10 0.300MG  2020-08-05 22:51:09   \n",
       "4     120 CAP | DUTASTERIDA 0.250MG; TADALAFIL  10MG  2020-08-05 22:49:09   \n",
       "\n",
       "   qtdInsumos  calculado  correto  Capsulas  \\\n",
       "0           1    47.5297     39.9        30   \n",
       "1           1    46.9620     43.6        60   \n",
       "2           3   105.1390    111.4        60   \n",
       "3           1    49.0314     43.6        60   \n",
       "4           2   161.8272    146.0       120   \n",
       "\n",
       "                                        Medicacao  \n",
       "0                 [ BUPROPIONA CLORIDRATO  150MG]  \n",
       "1                        [ FINASTERIDA 1:10  1MG]  \n",
       "2  [ NAC  250MG,  SILIMARINA  150MG,  SAME  50MG]  \n",
       "3                      [ ANASTROZOL 1:10 0.300MG]  \n",
       "4        [ DUTASTERIDA 0.250MG,  TADALAFIL  10MG]  "
      ]
     },
     "execution_count": 34,
     "metadata": {},
     "output_type": "execute_result"
    }
   ],
   "source": [
    "df.head()"
   ]
  },
  {
   "cell_type": "code",
   "execution_count": 35,
   "id": "5366c649",
   "metadata": {
    "ExecuteTime": {
     "end_time": "2021-09-15T22:05:58.736714Z",
     "start_time": "2021-09-15T22:05:58.726274Z"
    }
   },
   "outputs": [],
   "source": [
    "colunas = df.columns.to_list()\n",
    "colunas = colunas[-1:] + colunas[:-1]\n",
    "df = df[colunas]"
   ]
  },
  {
   "cell_type": "code",
   "execution_count": 36,
   "id": "561c9aef",
   "metadata": {
    "ExecuteTime": {
     "end_time": "2021-09-15T22:05:58.906858Z",
     "start_time": "2021-09-15T22:05:58.890490Z"
    }
   },
   "outputs": [],
   "source": [
    "colunas = df.columns.to_list()\n",
    "colunas = colunas[-1:] + colunas[:-1]\n",
    "df = df[colunas]"
   ]
  },
  {
   "cell_type": "markdown",
   "id": "84459824",
   "metadata": {},
   "source": [
    "Resultado final do DataFrame após a criação das novas colunas e a sua reordenação para manter uma melhor estética visual."
   ]
  },
  {
   "cell_type": "code",
   "execution_count": 37,
   "id": "ea7d8c0b",
   "metadata": {
    "ExecuteTime": {
     "end_time": "2021-09-15T22:05:59.244697Z",
     "start_time": "2021-09-15T22:05:59.222350Z"
    }
   },
   "outputs": [
    {
     "data": {
      "text/html": [
       "<div>\n",
       "<style scoped>\n",
       "    .dataframe tbody tr th:only-of-type {\n",
       "        vertical-align: middle;\n",
       "    }\n",
       "\n",
       "    .dataframe tbody tr th {\n",
       "        vertical-align: top;\n",
       "    }\n",
       "\n",
       "    .dataframe thead th {\n",
       "        text-align: right;\n",
       "    }\n",
       "</style>\n",
       "<table border=\"1\" class=\"dataframe\">\n",
       "  <thead>\n",
       "    <tr style=\"text-align: right;\">\n",
       "      <th></th>\n",
       "      <th>Capsulas</th>\n",
       "      <th>Medicacao</th>\n",
       "      <th>descricao</th>\n",
       "      <th>criado</th>\n",
       "      <th>qtdInsumos</th>\n",
       "      <th>calculado</th>\n",
       "      <th>correto</th>\n",
       "    </tr>\n",
       "  </thead>\n",
       "  <tbody>\n",
       "    <tr>\n",
       "      <th>0</th>\n",
       "      <td>30</td>\n",
       "      <td>[ BUPROPIONA CLORIDRATO  150MG]</td>\n",
       "      <td>30 CAP | BUPROPIONA CLORIDRATO  150MG</td>\n",
       "      <td>2020-08-05 23:19:09</td>\n",
       "      <td>1</td>\n",
       "      <td>47.5297</td>\n",
       "      <td>39.9</td>\n",
       "    </tr>\n",
       "    <tr>\n",
       "      <th>1</th>\n",
       "      <td>60</td>\n",
       "      <td>[ FINASTERIDA 1:10  1MG]</td>\n",
       "      <td>60 CAP | FINASTERIDA 1:10  1MG</td>\n",
       "      <td>2020-08-05 22:51:09</td>\n",
       "      <td>1</td>\n",
       "      <td>46.9620</td>\n",
       "      <td>43.6</td>\n",
       "    </tr>\n",
       "    <tr>\n",
       "      <th>2</th>\n",
       "      <td>60</td>\n",
       "      <td>[ NAC  250MG,  SILIMARINA  150MG,  SAME  50MG]</td>\n",
       "      <td>60 CAP | NAC  250MG; SILIMARINA  150MG; SAME  ...</td>\n",
       "      <td>2020-08-05 22:51:09</td>\n",
       "      <td>3</td>\n",
       "      <td>105.1390</td>\n",
       "      <td>111.4</td>\n",
       "    </tr>\n",
       "    <tr>\n",
       "      <th>3</th>\n",
       "      <td>60</td>\n",
       "      <td>[ ANASTROZOL 1:10 0.300MG]</td>\n",
       "      <td>60 CAP | ANASTROZOL 1:10 0.300MG</td>\n",
       "      <td>2020-08-05 22:51:09</td>\n",
       "      <td>1</td>\n",
       "      <td>49.0314</td>\n",
       "      <td>43.6</td>\n",
       "    </tr>\n",
       "    <tr>\n",
       "      <th>4</th>\n",
       "      <td>120</td>\n",
       "      <td>[ DUTASTERIDA 0.250MG,  TADALAFIL  10MG]</td>\n",
       "      <td>120 CAP | DUTASTERIDA 0.250MG; TADALAFIL  10MG</td>\n",
       "      <td>2020-08-05 22:49:09</td>\n",
       "      <td>2</td>\n",
       "      <td>161.8272</td>\n",
       "      <td>146.0</td>\n",
       "    </tr>\n",
       "    <tr>\n",
       "      <th>...</th>\n",
       "      <td>...</td>\n",
       "      <td>...</td>\n",
       "      <td>...</td>\n",
       "      <td>...</td>\n",
       "      <td>...</td>\n",
       "      <td>...</td>\n",
       "      <td>...</td>\n",
       "    </tr>\n",
       "    <tr>\n",
       "      <th>7116</th>\n",
       "      <td>45</td>\n",
       "      <td>[ SERTRALINA CLORIDRATO  40MG,  SLENDESTA  75M...</td>\n",
       "      <td>45 CAP | SERTRALINA CLORIDRATO  40MG; SLENDEST...</td>\n",
       "      <td>2020-07-09 17:33:11</td>\n",
       "      <td>12</td>\n",
       "      <td>188.5325</td>\n",
       "      <td>181.8</td>\n",
       "    </tr>\n",
       "    <tr>\n",
       "      <th>7117</th>\n",
       "      <td>120</td>\n",
       "      <td>[ GREENSELECT  120MG]</td>\n",
       "      <td>120 CAP | GREENSELECT  120MG</td>\n",
       "      <td>2020-07-09 17:24:09</td>\n",
       "      <td>1</td>\n",
       "      <td>377.6529</td>\n",
       "      <td>346.6</td>\n",
       "    </tr>\n",
       "    <tr>\n",
       "      <th>7118</th>\n",
       "      <td>60</td>\n",
       "      <td>[ MAGNESIO QUELADO 30%  220MG,  SELENIO QUELAD...</td>\n",
       "      <td>60 CAP | MAGNESIO QUELADO 30%  220MG; SELENIO ...</td>\n",
       "      <td>2020-07-09 17:23:10</td>\n",
       "      <td>11</td>\n",
       "      <td>166.2868</td>\n",
       "      <td>157.2</td>\n",
       "    </tr>\n",
       "    <tr>\n",
       "      <th>7119</th>\n",
       "      <td>30</td>\n",
       "      <td>[ VALERIANA  50MG,  PASSIFLORA  500MG,  CAMOMI...</td>\n",
       "      <td>30 CAP | VALERIANA  50MG; PASSIFLORA  500MG; C...</td>\n",
       "      <td>2020-07-09 17:22:09</td>\n",
       "      <td>3</td>\n",
       "      <td>60.1646</td>\n",
       "      <td>68.1</td>\n",
       "    </tr>\n",
       "    <tr>\n",
       "      <th>7120</th>\n",
       "      <td>60</td>\n",
       "      <td>[ ACIDO TRANEXAMICO  200MG,  BIOTINA 2.500MG]</td>\n",
       "      <td>60 CAP | ACIDO TRANEXAMICO  200MG; BIOTINA 2.5...</td>\n",
       "      <td>2020-07-09 17:14:09</td>\n",
       "      <td>2</td>\n",
       "      <td>107.0370</td>\n",
       "      <td>95.3</td>\n",
       "    </tr>\n",
       "  </tbody>\n",
       "</table>\n",
       "<p>7121 rows × 7 columns</p>\n",
       "</div>"
      ],
      "text/plain": [
       "      Capsulas                                          Medicacao  \\\n",
       "0           30                    [ BUPROPIONA CLORIDRATO  150MG]   \n",
       "1           60                           [ FINASTERIDA 1:10  1MG]   \n",
       "2           60     [ NAC  250MG,  SILIMARINA  150MG,  SAME  50MG]   \n",
       "3           60                         [ ANASTROZOL 1:10 0.300MG]   \n",
       "4          120           [ DUTASTERIDA 0.250MG,  TADALAFIL  10MG]   \n",
       "...        ...                                                ...   \n",
       "7116        45  [ SERTRALINA CLORIDRATO  40MG,  SLENDESTA  75M...   \n",
       "7117       120                              [ GREENSELECT  120MG]   \n",
       "7118        60  [ MAGNESIO QUELADO 30%  220MG,  SELENIO QUELAD...   \n",
       "7119        30  [ VALERIANA  50MG,  PASSIFLORA  500MG,  CAMOMI...   \n",
       "7120        60      [ ACIDO TRANEXAMICO  200MG,  BIOTINA 2.500MG]   \n",
       "\n",
       "                                              descricao               criado  \\\n",
       "0                 30 CAP | BUPROPIONA CLORIDRATO  150MG  2020-08-05 23:19:09   \n",
       "1                        60 CAP | FINASTERIDA 1:10  1MG  2020-08-05 22:51:09   \n",
       "2     60 CAP | NAC  250MG; SILIMARINA  150MG; SAME  ...  2020-08-05 22:51:09   \n",
       "3                      60 CAP | ANASTROZOL 1:10 0.300MG  2020-08-05 22:51:09   \n",
       "4        120 CAP | DUTASTERIDA 0.250MG; TADALAFIL  10MG  2020-08-05 22:49:09   \n",
       "...                                                 ...                  ...   \n",
       "7116  45 CAP | SERTRALINA CLORIDRATO  40MG; SLENDEST...  2020-07-09 17:33:11   \n",
       "7117                       120 CAP | GREENSELECT  120MG  2020-07-09 17:24:09   \n",
       "7118  60 CAP | MAGNESIO QUELADO 30%  220MG; SELENIO ...  2020-07-09 17:23:10   \n",
       "7119  30 CAP | VALERIANA  50MG; PASSIFLORA  500MG; C...  2020-07-09 17:22:09   \n",
       "7120  60 CAP | ACIDO TRANEXAMICO  200MG; BIOTINA 2.5...  2020-07-09 17:14:09   \n",
       "\n",
       "      qtdInsumos  calculado  correto  \n",
       "0              1    47.5297     39.9  \n",
       "1              1    46.9620     43.6  \n",
       "2              3   105.1390    111.4  \n",
       "3              1    49.0314     43.6  \n",
       "4              2   161.8272    146.0  \n",
       "...          ...        ...      ...  \n",
       "7116          12   188.5325    181.8  \n",
       "7117           1   377.6529    346.6  \n",
       "7118          11   166.2868    157.2  \n",
       "7119           3    60.1646     68.1  \n",
       "7120           2   107.0370     95.3  \n",
       "\n",
       "[7121 rows x 7 columns]"
      ]
     },
     "execution_count": 37,
     "metadata": {},
     "output_type": "execute_result"
    }
   ],
   "source": [
    "df"
   ]
  },
  {
   "cell_type": "markdown",
   "id": "00feac39",
   "metadata": {},
   "source": [
    "É sempre importante criar plotagens dos dados do nosso dataset, porém não devemos assumir suposições em cima dessas plotagens\n",
    "para não criarmos uma tendência quando criar o modelo de ML."
   ]
  },
  {
   "cell_type": "code",
   "execution_count": 38,
   "id": "e9f76d61",
   "metadata": {
    "ExecuteTime": {
     "end_time": "2021-09-15T22:06:00.028525Z",
     "start_time": "2021-09-15T22:05:59.558318Z"
    }
   },
   "outputs": [
    {
     "data": {
      "image/png": "[encoded data removed]",
      "text/plain": [
       "<Figure size 432x432 with 4 Axes>"
      ]
     },
     "metadata": {
      "needs_background": "light"
     },
     "output_type": "display_data"
    }
   ],
   "source": [
    "df.hist(figsize=(6, 6), bins=50)\n",
    "plt.show()"
   ]
  },
  {
   "cell_type": "code",
   "execution_count": 39,
   "id": "bd4bd0b7",
   "metadata": {
    "ExecuteTime": {
     "end_time": "2021-09-15T22:06:00.243856Z",
     "start_time": "2021-09-15T22:06:00.029517Z"
    }
   },
   "outputs": [
    {
     "data": {
      "image/png": "[encoded data removed]",
      "text/plain": [
       "<Figure size 432x432 with 1 Axes>"
      ]
     },
     "metadata": {
      "needs_background": "light"
     },
     "output_type": "display_data"
    }
   ],
   "source": [
    "(df['correto'] - df['calculado']).hist(bins=100, figsize=(6, 6))\n",
    "plt.show()"
   ]
  },
  {
   "cell_type": "markdown",
   "id": "3f8985b2",
   "metadata": {},
   "source": [
    "O violinplot é um gráfico interessante, ele mostra a densidade da distribuição dos dados combinando com um boxplot, trazendo informações sobre os quartis e outliers. No gráfico a baixo fica evidente uma considerável quantidade de outliers na quantidade de capsulas de cada pedido."
   ]
  },
  {
   "cell_type": "code",
   "execution_count": 40,
   "id": "78d1268d",
   "metadata": {
    "ExecuteTime": {
     "end_time": "2021-09-15T22:06:00.382255Z",
     "start_time": "2021-09-15T22:06:00.245360Z"
    },
    "scrolled": true
   },
   "outputs": [
    {
     "data": {
      "image/png": "[encoded data removed]",
      "text/plain": [
       "<Figure size 360x360 with 1 Axes>"
      ]
     },
     "metadata": {
      "needs_background": "light"
     },
     "output_type": "display_data"
    }
   ],
   "source": [
    "plt.figure(figsize=(5, 5))\n",
    "sns.violinplot(data=df['Capsulas'])\n",
    "plt.show()"
   ]
  },
  {
   "cell_type": "markdown",
   "id": "2eb82c1a",
   "metadata": {},
   "source": [
    "A fim de curiosidade, fiz a correlação dos dados que possuiam quantidade de capsulas superior a 250 e logo a baixo de todos os dados da nossa coleção.\n",
    "É interessante ver que a correlação entre a quantidade de capsulas e a nossa variável dependente 'correto', é maior quando analisados os dados que possuem uma maior quantidade de capsulas. Porém no modelo de ML projetado aqui, essa informação não foi considerada."
   ]
  },
  {
   "cell_type": "code",
   "execution_count": 41,
   "id": "1061f466",
   "metadata": {
    "ExecuteTime": {
     "end_time": "2021-09-15T22:06:00.474642Z",
     "start_time": "2021-09-15T22:06:00.457251Z"
    }
   },
   "outputs": [
    {
     "data": {
      "text/html": [
       "<div>\n",
       "<style scoped>\n",
       "    .dataframe tbody tr th:only-of-type {\n",
       "        vertical-align: middle;\n",
       "    }\n",
       "\n",
       "    .dataframe tbody tr th {\n",
       "        vertical-align: top;\n",
       "    }\n",
       "\n",
       "    .dataframe thead th {\n",
       "        text-align: right;\n",
       "    }\n",
       "</style>\n",
       "<table border=\"1\" class=\"dataframe\">\n",
       "  <thead>\n",
       "    <tr style=\"text-align: right;\">\n",
       "      <th></th>\n",
       "      <th>Capsulas</th>\n",
       "      <th>qtdInsumos</th>\n",
       "      <th>calculado</th>\n",
       "      <th>correto</th>\n",
       "    </tr>\n",
       "  </thead>\n",
       "  <tbody>\n",
       "    <tr>\n",
       "      <th>Capsulas</th>\n",
       "      <td>1.000000</td>\n",
       "      <td>-0.027669</td>\n",
       "      <td>0.411403</td>\n",
       "      <td>0.485938</td>\n",
       "    </tr>\n",
       "    <tr>\n",
       "      <th>qtdInsumos</th>\n",
       "      <td>-0.027669</td>\n",
       "      <td>1.000000</td>\n",
       "      <td>0.171529</td>\n",
       "      <td>0.173147</td>\n",
       "    </tr>\n",
       "    <tr>\n",
       "      <th>calculado</th>\n",
       "      <td>0.411403</td>\n",
       "      <td>0.171529</td>\n",
       "      <td>1.000000</td>\n",
       "      <td>0.985132</td>\n",
       "    </tr>\n",
       "    <tr>\n",
       "      <th>correto</th>\n",
       "      <td>0.485938</td>\n",
       "      <td>0.173147</td>\n",
       "      <td>0.985132</td>\n",
       "      <td>1.000000</td>\n",
       "    </tr>\n",
       "  </tbody>\n",
       "</table>\n",
       "</div>"
      ],
      "text/plain": [
       "            Capsulas  qtdInsumos  calculado   correto\n",
       "Capsulas    1.000000   -0.027669   0.411403  0.485938\n",
       "qtdInsumos -0.027669    1.000000   0.171529  0.173147\n",
       "calculado   0.411403    0.171529   1.000000  0.985132\n",
       "correto     0.485938    0.173147   0.985132  1.000000"
      ]
     },
     "execution_count": 41,
     "metadata": {},
     "output_type": "execute_result"
    }
   ],
   "source": [
    "df.query('Capsulas > 250').corr()"
   ]
  },
  {
   "cell_type": "code",
   "execution_count": 42,
   "id": "b5c9b63d",
   "metadata": {
    "ExecuteTime": {
     "end_time": "2021-09-15T22:06:00.812978Z",
     "start_time": "2021-09-15T22:06:00.632336Z"
    }
   },
   "outputs": [
    {
     "data": {
      "image/png": "[encoded data removed]",
      "text/plain": [
       "<Figure size 432x288 with 2 Axes>"
      ]
     },
     "metadata": {
      "needs_background": "light"
     },
     "output_type": "display_data"
    }
   ],
   "source": [
    "corr = df.query('Capsulas > 250').corr()\n",
    "\n",
    "sns.heatmap(corr, annot=True, fmt='.2f', cmap='Blues', vmin=-1, vmax=1, cbar_kws={\"shrink\": .8})\n",
    "plt.show()"
   ]
  },
  {
   "cell_type": "code",
   "execution_count": 43,
   "id": "741d5a83",
   "metadata": {
    "ExecuteTime": {
     "end_time": "2021-09-15T22:06:00.843787Z",
     "start_time": "2021-09-15T22:06:00.823451Z"
    },
    "scrolled": false
   },
   "outputs": [
    {
     "data": {
      "text/html": [
       "<div>\n",
       "<style scoped>\n",
       "    .dataframe tbody tr th:only-of-type {\n",
       "        vertical-align: middle;\n",
       "    }\n",
       "\n",
       "    .dataframe tbody tr th {\n",
       "        vertical-align: top;\n",
       "    }\n",
       "\n",
       "    .dataframe thead th {\n",
       "        text-align: right;\n",
       "    }\n",
       "</style>\n",
       "<table border=\"1\" class=\"dataframe\">\n",
       "  <thead>\n",
       "    <tr style=\"text-align: right;\">\n",
       "      <th></th>\n",
       "      <th>Capsulas</th>\n",
       "      <th>qtdInsumos</th>\n",
       "      <th>calculado</th>\n",
       "      <th>correto</th>\n",
       "    </tr>\n",
       "  </thead>\n",
       "  <tbody>\n",
       "    <tr>\n",
       "      <th>Capsulas</th>\n",
       "      <td>1.000000</td>\n",
       "      <td>-0.053763</td>\n",
       "      <td>0.225080</td>\n",
       "      <td>0.230430</td>\n",
       "    </tr>\n",
       "    <tr>\n",
       "      <th>qtdInsumos</th>\n",
       "      <td>-0.053763</td>\n",
       "      <td>1.000000</td>\n",
       "      <td>0.232302</td>\n",
       "      <td>0.254238</td>\n",
       "    </tr>\n",
       "    <tr>\n",
       "      <th>calculado</th>\n",
       "      <td>0.225080</td>\n",
       "      <td>0.232302</td>\n",
       "      <td>1.000000</td>\n",
       "      <td>0.982201</td>\n",
       "    </tr>\n",
       "    <tr>\n",
       "      <th>correto</th>\n",
       "      <td>0.230430</td>\n",
       "      <td>0.254238</td>\n",
       "      <td>0.982201</td>\n",
       "      <td>1.000000</td>\n",
       "    </tr>\n",
       "  </tbody>\n",
       "</table>\n",
       "</div>"
      ],
      "text/plain": [
       "            Capsulas  qtdInsumos  calculado   correto\n",
       "Capsulas    1.000000   -0.053763   0.225080  0.230430\n",
       "qtdInsumos -0.053763    1.000000   0.232302  0.254238\n",
       "calculado   0.225080    0.232302   1.000000  0.982201\n",
       "correto     0.230430    0.254238   0.982201  1.000000"
      ]
     },
     "execution_count": 43,
     "metadata": {},
     "output_type": "execute_result"
    }
   ],
   "source": [
    "df.corr()"
   ]
  },
  {
   "cell_type": "code",
   "execution_count": 44,
   "id": "e15f785e",
   "metadata": {
    "ExecuteTime": {
     "end_time": "2021-09-15T22:06:01.166368Z",
     "start_time": "2021-09-15T22:06:00.996009Z"
    }
   },
   "outputs": [
    {
     "data": {
      "image/png": "[encoded data removed]",
      "text/plain": [
       "<Figure size 432x288 with 2 Axes>"
      ]
     },
     "metadata": {
      "needs_background": "light"
     },
     "output_type": "display_data"
    }
   ],
   "source": [
    "corr = df.corr()\n",
    "\n",
    "sns.heatmap(corr, annot=True, fmt='.2f', cmap='Blues', vmin=-1, vmax=1, cbar_kws={\"shrink\": .8})\n",
    "plt.show()"
   ]
  },
  {
   "cell_type": "markdown",
   "id": "f7601cc0",
   "metadata": {},
   "source": [
    "# Dividindo os Dados"
   ]
  },
  {
   "cell_type": "markdown",
   "id": "e503f515",
   "metadata": {},
   "source": [
    "A partir desse ponto os dados serão preparados para serem utilizados nos modelos de ML abordados.\n",
    "X são todos os dados independentes ou seja, aqueles que serão usados para fazer a predição, nesse caso usarei todas as variáveis menos 'Medicacao' e 'descricao'.\n",
    "y é o que quero prever, a proposta pede para que os dados de 'correto'sejam previstos."
   ]
  },
  {
   "cell_type": "code",
   "execution_count": 45,
   "id": "41e2c033",
   "metadata": {
    "ExecuteTime": {
     "end_time": "2021-09-15T22:06:01.566709Z",
     "start_time": "2021-09-15T22:06:01.547898Z"
    }
   },
   "outputs": [],
   "source": [
    "X = df.drop(['Medicacao','descricao', 'criado', 'correto'], axis=1)\n",
    "y = df['correto']"
   ]
  },
  {
   "cell_type": "markdown",
   "id": "c35954de",
   "metadata": {},
   "source": [
    "Os dados serão divididos em treino e teste, treino é utilizado para treinar o modelo de predição e teste é utilizado para validar o nosso modelo criado, saber o quanto ele é bom em prever os resultados desejados."
   ]
  },
  {
   "cell_type": "code",
   "execution_count": 46,
   "id": "261bcada",
   "metadata": {
    "ExecuteTime": {
     "end_time": "2021-09-15T22:06:01.966552Z",
     "start_time": "2021-09-15T22:06:01.953656Z"
    }
   },
   "outputs": [],
   "source": [
    "from sklearn.model_selection import train_test_split\n",
    "X_train, X_test, y_train, y_test = train_test_split(X, y, test_size=0.2808594298553574, random_state=19)"
   ]
  },
  {
   "cell_type": "markdown",
   "id": "b5ade6a7",
   "metadata": {},
   "source": [
    "A partir desse ponto os modelos de Machine Learning serão criados, todos foram escritos seguindo a mesma estrutura para facilitar a compreensão e manter uma estrutura uniforme do projeto."
   ]
  },
  {
   "cell_type": "markdown",
   "id": "cdad3a83",
   "metadata": {},
   "source": [
    "# Linear Regression"
   ]
  },
  {
   "cell_type": "markdown",
   "id": "aa991201",
   "metadata": {},
   "source": [
    "Pipeline é uma forma inteligente de criar um modelo de predição, ele previne o vazamento de informações no momento do treinamento do modelo e utilizarei essa técnica aqui. Ela recebe uma lista de tuplas, com o nome e a função, obedecendo uma ordem que representa as etapas no Pipeline."
   ]
  },
  {
   "cell_type": "code",
   "execution_count": 47,
   "id": "6aea2334",
   "metadata": {
    "ExecuteTime": {
     "end_time": "2021-09-15T22:06:02.737654Z",
     "start_time": "2021-09-15T22:06:02.722775Z"
    }
   },
   "outputs": [],
   "source": [
    "steps = [('sc', StandardScaler()), ('lr', LinearRegression())]\n",
    "pipe = Pipeline(steps=steps)\n",
    "pipe.fit(X_train, y_train)\n",
    "y_pred = pipe.predict(X_test)"
   ]
  },
  {
   "cell_type": "markdown",
   "id": "c886d1db",
   "metadata": {},
   "source": [
    "Para sanar a curiosidade, criei um DataFrame com os valores de 'correto' e os valores 'previsto's e a diferença entre os dois."
   ]
  },
  {
   "cell_type": "code",
   "execution_count": 48,
   "id": "d73995a1",
   "metadata": {
    "ExecuteTime": {
     "end_time": "2021-09-15T22:06:03.646929Z",
     "start_time": "2021-09-15T22:06:03.624319Z"
    }
   },
   "outputs": [
    {
     "data": {
      "text/html": [
       "<div>\n",
       "<style scoped>\n",
       "    .dataframe tbody tr th:only-of-type {\n",
       "        vertical-align: middle;\n",
       "    }\n",
       "\n",
       "    .dataframe tbody tr th {\n",
       "        vertical-align: top;\n",
       "    }\n",
       "\n",
       "    .dataframe thead th {\n",
       "        text-align: right;\n",
       "    }\n",
       "</style>\n",
       "<table border=\"1\" class=\"dataframe\">\n",
       "  <thead>\n",
       "    <tr style=\"text-align: right;\">\n",
       "      <th></th>\n",
       "      <th>correto</th>\n",
       "      <th>previsto</th>\n",
       "      <th>diferenca correto-previsto</th>\n",
       "    </tr>\n",
       "  </thead>\n",
       "  <tbody>\n",
       "    <tr>\n",
       "      <th>0</th>\n",
       "      <td>81.0</td>\n",
       "      <td>84.179471</td>\n",
       "      <td>-3.179471</td>\n",
       "    </tr>\n",
       "    <tr>\n",
       "      <th>1</th>\n",
       "      <td>179.0</td>\n",
       "      <td>162.154185</td>\n",
       "      <td>16.845815</td>\n",
       "    </tr>\n",
       "    <tr>\n",
       "      <th>2</th>\n",
       "      <td>132.2</td>\n",
       "      <td>140.091971</td>\n",
       "      <td>-7.891971</td>\n",
       "    </tr>\n",
       "    <tr>\n",
       "      <th>3</th>\n",
       "      <td>182.2</td>\n",
       "      <td>189.521613</td>\n",
       "      <td>-7.321613</td>\n",
       "    </tr>\n",
       "    <tr>\n",
       "      <th>4</th>\n",
       "      <td>94.0</td>\n",
       "      <td>103.913852</td>\n",
       "      <td>-9.913852</td>\n",
       "    </tr>\n",
       "    <tr>\n",
       "      <th>...</th>\n",
       "      <td>...</td>\n",
       "      <td>...</td>\n",
       "      <td>...</td>\n",
       "    </tr>\n",
       "    <tr>\n",
       "      <th>1995</th>\n",
       "      <td>164.0</td>\n",
       "      <td>170.862216</td>\n",
       "      <td>-6.862216</td>\n",
       "    </tr>\n",
       "    <tr>\n",
       "      <th>1996</th>\n",
       "      <td>69.4</td>\n",
       "      <td>82.553330</td>\n",
       "      <td>-13.153330</td>\n",
       "    </tr>\n",
       "    <tr>\n",
       "      <th>1997</th>\n",
       "      <td>195.5</td>\n",
       "      <td>208.277910</td>\n",
       "      <td>-12.777910</td>\n",
       "    </tr>\n",
       "    <tr>\n",
       "      <th>1998</th>\n",
       "      <td>528.3</td>\n",
       "      <td>551.953556</td>\n",
       "      <td>-23.653556</td>\n",
       "    </tr>\n",
       "    <tr>\n",
       "      <th>1999</th>\n",
       "      <td>160.2</td>\n",
       "      <td>176.636412</td>\n",
       "      <td>-16.436412</td>\n",
       "    </tr>\n",
       "  </tbody>\n",
       "</table>\n",
       "<p>2000 rows × 3 columns</p>\n",
       "</div>"
      ],
      "text/plain": [
       "      correto    previsto  diferenca correto-previsto\n",
       "0        81.0   84.179471                   -3.179471\n",
       "1       179.0  162.154185                   16.845815\n",
       "2       132.2  140.091971                   -7.891971\n",
       "3       182.2  189.521613                   -7.321613\n",
       "4        94.0  103.913852                   -9.913852\n",
       "...       ...         ...                         ...\n",
       "1995    164.0  170.862216                   -6.862216\n",
       "1996     69.4   82.553330                  -13.153330\n",
       "1997    195.5  208.277910                  -12.777910\n",
       "1998    528.3  551.953556                  -23.653556\n",
       "1999    160.2  176.636412                  -16.436412\n",
       "\n",
       "[2000 rows x 3 columns]"
      ]
     },
     "execution_count": 48,
     "metadata": {},
     "output_type": "execute_result"
    }
   ],
   "source": [
    "pd.DataFrame(data={'correto': y_test.values, 'previsto': y_pred, 'diferenca correto-previsto': y_test.values-y_pred})"
   ]
  },
  {
   "cell_type": "markdown",
   "id": "98fb594c",
   "metadata": {},
   "source": [
    "Para validar os modelos as métricas utilizadas foram R2, Mean Absolute Error(MAE), Mean Squared Error(MSE) e Root Mean Squared Error(RMSE). R2 representa o quanto que nosso modelo se assemelha dos dados reais, o valor vai de 0 a 1 e quanto mais próximo de 1, melhor o modelo, as outras tres médias são baseadas no erro entre o predito e o real, porém para fins de compreensão RMSE e MAE são mais fáceis pois são da mesma unidade dos valores preditos, quanto mais próximos de zero melhor o modelo, porém essa percepção pode variar de acordo com a proposta do modelo."
   ]
  },
  {
   "cell_type": "code",
   "execution_count": 49,
   "id": "3f3235dc",
   "metadata": {
    "ExecuteTime": {
     "end_time": "2021-09-15T22:06:04.016406Z",
     "start_time": "2021-09-15T22:06:03.996070Z"
    }
   },
   "outputs": [
    {
     "data": {
      "text/html": [
       "<div>\n",
       "<style scoped>\n",
       "    .dataframe tbody tr th:only-of-type {\n",
       "        vertical-align: middle;\n",
       "    }\n",
       "\n",
       "    .dataframe tbody tr th {\n",
       "        vertical-align: top;\n",
       "    }\n",
       "\n",
       "    .dataframe thead th {\n",
       "        text-align: right;\n",
       "    }\n",
       "</style>\n",
       "<table border=\"1\" class=\"dataframe\">\n",
       "  <thead>\n",
       "    <tr style=\"text-align: right;\">\n",
       "      <th></th>\n",
       "      <th>R2</th>\n",
       "      <th>MAE</th>\n",
       "      <th>MSE</th>\n",
       "      <th>RMSE</th>\n",
       "    </tr>\n",
       "  </thead>\n",
       "  <tbody>\n",
       "    <tr>\n",
       "      <th>Linear Regression</th>\n",
       "      <td>0.948212</td>\n",
       "      <td>13.211999</td>\n",
       "      <td>1101.961178</td>\n",
       "      <td>33.195801</td>\n",
       "    </tr>\n",
       "  </tbody>\n",
       "</table>\n",
       "</div>"
      ],
      "text/plain": [
       "                         R2        MAE          MSE       RMSE\n",
       "Linear Regression  0.948212  13.211999  1101.961178  33.195801"
      ]
     },
     "execution_count": 49,
     "metadata": {},
     "output_type": "execute_result"
    }
   ],
   "source": [
    "r2_score = metrics.r2_score(y_test, y_pred)\n",
    "MAE = metrics.mean_absolute_error(y_test, y_pred)\n",
    "MSE = metrics.mean_squared_error(y_test, y_pred)\n",
    "RMSE = metrics.mean_squared_error(y_test, y_pred, squared=False)\n",
    "df_lr = pd.DataFrame(data={'R2': r2_score, 'MAE': MAE, 'MSE': MSE, 'RMSE': RMSE}, index=[\"Linear Regression\"])\n",
    "df_lr"
   ]
  },
  {
   "cell_type": "markdown",
   "id": "89ec523a",
   "metadata": {},
   "source": [
    "O gráfico a baixo representa a curva dos 100 primeiros valores reais e dos valores preditos, possibilitando a visualização do quão bem os valores preditos se encaixam em relação aos originais."
   ]
  },
  {
   "cell_type": "code",
   "execution_count": 50,
   "id": "a8d5f7de",
   "metadata": {
    "ExecuteTime": {
     "end_time": "2021-09-15T22:06:04.539596Z",
     "start_time": "2021-09-15T22:06:04.367971Z"
    }
   },
   "outputs": [
    {
     "data": {
      "image/png": "[encoded data removed]",
      "text/plain": [
       "<Figure size 864x576 with 1 Axes>"
      ]
     },
     "metadata": {},
     "output_type": "display_data"
    }
   ],
   "source": [
    "pred_lr = pd.DataFrame(y_pred[:100])\n",
    "y_teste2 = pd.DataFrame(y_test.values[:100])\n",
    "plt.style.use(\"ggplot\")\n",
    "plt.figure(figsize=(12,8))\n",
    "plt.xlabel('..')\n",
    "plt.ylabel('Valor de Vendas')\n",
    "plt.title('Valores reais vs preditos')\n",
    "\n",
    "plt.plot(pred_lr, c='green')\n",
    "plt.plot(y_teste2, c='r')\n",
    "\n",
    "plt.legend(['Predições','Valores Reais'])\n",
    "plt.show()"
   ]
  },
  {
   "cell_type": "markdown",
   "id": "65bb6413",
   "metadata": {},
   "source": [
    "# Random Forest"
   ]
  },
  {
   "cell_type": "code",
   "execution_count": 51,
   "id": "b1a3ec95",
   "metadata": {
    "ExecuteTime": {
     "end_time": "2021-09-15T22:06:05.769573Z",
     "start_time": "2021-09-15T22:06:05.413422Z"
    }
   },
   "outputs": [],
   "source": [
    "steps = [('sc', StandardScaler()), ('rf', RandomForestRegressor(n_estimators=50, random_state=19))]\n",
    "pipe = Pipeline(steps=steps)\n",
    "pipe.fit(X_train, y_train)\n",
    "y_pred = pipe.predict(X_test)"
   ]
  },
  {
   "cell_type": "code",
   "execution_count": 52,
   "id": "9a975877",
   "metadata": {
    "ExecuteTime": {
     "end_time": "2021-09-15T22:06:05.877133Z",
     "start_time": "2021-09-15T22:06:05.855776Z"
    }
   },
   "outputs": [
    {
     "data": {
      "text/html": [
       "<div>\n",
       "<style scoped>\n",
       "    .dataframe tbody tr th:only-of-type {\n",
       "        vertical-align: middle;\n",
       "    }\n",
       "\n",
       "    .dataframe tbody tr th {\n",
       "        vertical-align: top;\n",
       "    }\n",
       "\n",
       "    .dataframe thead th {\n",
       "        text-align: right;\n",
       "    }\n",
       "</style>\n",
       "<table border=\"1\" class=\"dataframe\">\n",
       "  <thead>\n",
       "    <tr style=\"text-align: right;\">\n",
       "      <th></th>\n",
       "      <th>correto</th>\n",
       "      <th>previsto</th>\n",
       "      <th>diferenca correto-previsto</th>\n",
       "    </tr>\n",
       "  </thead>\n",
       "  <tbody>\n",
       "    <tr>\n",
       "      <th>0</th>\n",
       "      <td>81.0</td>\n",
       "      <td>76.670000</td>\n",
       "      <td>4.330000</td>\n",
       "    </tr>\n",
       "    <tr>\n",
       "      <th>1</th>\n",
       "      <td>179.0</td>\n",
       "      <td>153.812000</td>\n",
       "      <td>25.188000</td>\n",
       "    </tr>\n",
       "    <tr>\n",
       "      <th>2</th>\n",
       "      <td>132.2</td>\n",
       "      <td>134.872000</td>\n",
       "      <td>-2.672000</td>\n",
       "    </tr>\n",
       "    <tr>\n",
       "      <th>3</th>\n",
       "      <td>182.2</td>\n",
       "      <td>177.478000</td>\n",
       "      <td>4.722000</td>\n",
       "    </tr>\n",
       "    <tr>\n",
       "      <th>4</th>\n",
       "      <td>94.0</td>\n",
       "      <td>102.732000</td>\n",
       "      <td>-8.732000</td>\n",
       "    </tr>\n",
       "    <tr>\n",
       "      <th>...</th>\n",
       "      <td>...</td>\n",
       "      <td>...</td>\n",
       "      <td>...</td>\n",
       "    </tr>\n",
       "    <tr>\n",
       "      <th>1995</th>\n",
       "      <td>164.0</td>\n",
       "      <td>165.714000</td>\n",
       "      <td>-1.714000</td>\n",
       "    </tr>\n",
       "    <tr>\n",
       "      <th>1996</th>\n",
       "      <td>69.4</td>\n",
       "      <td>81.963267</td>\n",
       "      <td>-12.563267</td>\n",
       "    </tr>\n",
       "    <tr>\n",
       "      <th>1997</th>\n",
       "      <td>195.5</td>\n",
       "      <td>204.664267</td>\n",
       "      <td>-9.164267</td>\n",
       "    </tr>\n",
       "    <tr>\n",
       "      <th>1998</th>\n",
       "      <td>528.3</td>\n",
       "      <td>566.992800</td>\n",
       "      <td>-38.692800</td>\n",
       "    </tr>\n",
       "    <tr>\n",
       "      <th>1999</th>\n",
       "      <td>160.2</td>\n",
       "      <td>185.596667</td>\n",
       "      <td>-25.396667</td>\n",
       "    </tr>\n",
       "  </tbody>\n",
       "</table>\n",
       "<p>2000 rows × 3 columns</p>\n",
       "</div>"
      ],
      "text/plain": [
       "      correto    previsto  diferenca correto-previsto\n",
       "0        81.0   76.670000                    4.330000\n",
       "1       179.0  153.812000                   25.188000\n",
       "2       132.2  134.872000                   -2.672000\n",
       "3       182.2  177.478000                    4.722000\n",
       "4        94.0  102.732000                   -8.732000\n",
       "...       ...         ...                         ...\n",
       "1995    164.0  165.714000                   -1.714000\n",
       "1996     69.4   81.963267                  -12.563267\n",
       "1997    195.5  204.664267                   -9.164267\n",
       "1998    528.3  566.992800                  -38.692800\n",
       "1999    160.2  185.596667                  -25.396667\n",
       "\n",
       "[2000 rows x 3 columns]"
      ]
     },
     "execution_count": 52,
     "metadata": {},
     "output_type": "execute_result"
    }
   ],
   "source": [
    "pd.DataFrame(data={'correto': y_test.values, 'previsto': y_pred, 'diferenca correto-previsto': y_test.values-y_pred})"
   ]
  },
  {
   "cell_type": "code",
   "execution_count": 53,
   "id": "c43e443a",
   "metadata": {
    "ExecuteTime": {
     "end_time": "2021-09-15T22:06:06.308924Z",
     "start_time": "2021-09-15T22:06:06.295035Z"
    }
   },
   "outputs": [
    {
     "data": {
      "text/html": [
       "<div>\n",
       "<style scoped>\n",
       "    .dataframe tbody tr th:only-of-type {\n",
       "        vertical-align: middle;\n",
       "    }\n",
       "\n",
       "    .dataframe tbody tr th {\n",
       "        vertical-align: top;\n",
       "    }\n",
       "\n",
       "    .dataframe thead th {\n",
       "        text-align: right;\n",
       "    }\n",
       "</style>\n",
       "<table border=\"1\" class=\"dataframe\">\n",
       "  <thead>\n",
       "    <tr style=\"text-align: right;\">\n",
       "      <th></th>\n",
       "      <th>R2</th>\n",
       "      <th>MAE</th>\n",
       "      <th>MSE</th>\n",
       "      <th>RMSE</th>\n",
       "    </tr>\n",
       "  </thead>\n",
       "  <tbody>\n",
       "    <tr>\n",
       "      <th>Random Forest</th>\n",
       "      <td>0.91521</td>\n",
       "      <td>12.352327</td>\n",
       "      <td>1804.200189</td>\n",
       "      <td>42.475878</td>\n",
       "    </tr>\n",
       "  </tbody>\n",
       "</table>\n",
       "</div>"
      ],
      "text/plain": [
       "                    R2        MAE          MSE       RMSE\n",
       "Random Forest  0.91521  12.352327  1804.200189  42.475878"
      ]
     },
     "execution_count": 53,
     "metadata": {},
     "output_type": "execute_result"
    }
   ],
   "source": [
    "r2_score = metrics.r2_score(y_test, y_pred)\n",
    "MAE = metrics.mean_absolute_error(y_test, y_pred)\n",
    "MSE = metrics.mean_squared_error(y_test, y_pred)\n",
    "RMSE = metrics.mean_squared_error(y_test, y_pred, squared=False)\n",
    "df_rf = pd.DataFrame(data={'R2': r2_score, 'MAE': MAE, 'MSE': MSE, 'RMSE': RMSE}, index=[\"Random Forest\"])\n",
    "df_rf"
   ]
  },
  {
   "cell_type": "code",
   "execution_count": 54,
   "id": "cabf948d",
   "metadata": {
    "ExecuteTime": {
     "end_time": "2021-09-15T22:06:06.909244Z",
     "start_time": "2021-09-15T22:06:06.746927Z"
    }
   },
   "outputs": [
    {
     "data": {
      "image/png": "[encoded data removed]",
      "text/plain": [
       "<Figure size 864x576 with 1 Axes>"
      ]
     },
     "metadata": {},
     "output_type": "display_data"
    }
   ],
   "source": [
    "pred_rf = pd.DataFrame(y_pred[:100])\n",
    "y_teste2 = pd.DataFrame(y_test.values[:100])\n",
    "plt.style.use(\"ggplot\")\n",
    "plt.figure(figsize=(12,8))\n",
    "plt.xlabel('..')\n",
    "plt.ylabel('Valor de Vendas')\n",
    "plt.title('Valores reais vs preditos')\n",
    "\n",
    "plt_rforest = plt.plot(pred_rf, c='green')\n",
    "plt.plot(y_teste2)\n",
    "\n",
    "plt.legend(['Predições','Valores Reais'])\n",
    "plt.show()"
   ]
  },
  {
   "cell_type": "markdown",
   "id": "eaef13c1",
   "metadata": {
    "ExecuteTime": {
     "end_time": "2021-09-14T01:56:01.657520Z",
     "start_time": "2021-09-14T01:56:01.648543Z"
    }
   },
   "source": [
    "# Suport Vector Regressor"
   ]
  },
  {
   "cell_type": "code",
   "execution_count": 55,
   "id": "0915e21f",
   "metadata": {
    "ExecuteTime": {
     "end_time": "2021-09-15T22:06:08.895043Z",
     "start_time": "2021-09-15T22:06:07.813153Z"
    }
   },
   "outputs": [],
   "source": [
    "steps = [('sc', StandardScaler()), ('svr', SVR(kernel='linear'))]\n",
    "pipe = Pipeline(steps=steps)\n",
    "pipe.fit(X_train, y_train)\n",
    "y_pred = pipe.predict(X_test)"
   ]
  },
  {
   "cell_type": "code",
   "execution_count": 56,
   "id": "d8c55f5c",
   "metadata": {
    "ExecuteTime": {
     "end_time": "2021-09-15T22:06:08.910390Z",
     "start_time": "2021-09-15T22:06:08.896006Z"
    }
   },
   "outputs": [
    {
     "data": {
      "text/html": [
       "<div>\n",
       "<style scoped>\n",
       "    .dataframe tbody tr th:only-of-type {\n",
       "        vertical-align: middle;\n",
       "    }\n",
       "\n",
       "    .dataframe tbody tr th {\n",
       "        vertical-align: top;\n",
       "    }\n",
       "\n",
       "    .dataframe thead th {\n",
       "        text-align: right;\n",
       "    }\n",
       "</style>\n",
       "<table border=\"1\" class=\"dataframe\">\n",
       "  <thead>\n",
       "    <tr style=\"text-align: right;\">\n",
       "      <th></th>\n",
       "      <th>correto</th>\n",
       "      <th>previsto</th>\n",
       "      <th>diferenca correto-previsto</th>\n",
       "    </tr>\n",
       "  </thead>\n",
       "  <tbody>\n",
       "    <tr>\n",
       "      <th>0</th>\n",
       "      <td>81.0</td>\n",
       "      <td>82.785305</td>\n",
       "      <td>-1.785305</td>\n",
       "    </tr>\n",
       "    <tr>\n",
       "      <th>1</th>\n",
       "      <td>179.0</td>\n",
       "      <td>156.115406</td>\n",
       "      <td>22.884594</td>\n",
       "    </tr>\n",
       "    <tr>\n",
       "      <th>2</th>\n",
       "      <td>132.2</td>\n",
       "      <td>136.010148</td>\n",
       "      <td>-3.810148</td>\n",
       "    </tr>\n",
       "    <tr>\n",
       "      <th>3</th>\n",
       "      <td>182.2</td>\n",
       "      <td>181.602061</td>\n",
       "      <td>0.597939</td>\n",
       "    </tr>\n",
       "    <tr>\n",
       "      <th>4</th>\n",
       "      <td>94.0</td>\n",
       "      <td>100.865929</td>\n",
       "      <td>-6.865929</td>\n",
       "    </tr>\n",
       "    <tr>\n",
       "      <th>...</th>\n",
       "      <td>...</td>\n",
       "      <td>...</td>\n",
       "      <td>...</td>\n",
       "    </tr>\n",
       "    <tr>\n",
       "      <th>1995</th>\n",
       "      <td>164.0</td>\n",
       "      <td>164.457382</td>\n",
       "      <td>-0.457382</td>\n",
       "    </tr>\n",
       "    <tr>\n",
       "      <th>1996</th>\n",
       "      <td>69.4</td>\n",
       "      <td>77.940969</td>\n",
       "      <td>-8.540969</td>\n",
       "    </tr>\n",
       "    <tr>\n",
       "      <th>1997</th>\n",
       "      <td>195.5</td>\n",
       "      <td>200.571578</td>\n",
       "      <td>-5.071578</td>\n",
       "    </tr>\n",
       "    <tr>\n",
       "      <th>1998</th>\n",
       "      <td>528.3</td>\n",
       "      <td>521.787013</td>\n",
       "      <td>6.512987</td>\n",
       "    </tr>\n",
       "    <tr>\n",
       "      <th>1999</th>\n",
       "      <td>160.2</td>\n",
       "      <td>164.709196</td>\n",
       "      <td>-4.509196</td>\n",
       "    </tr>\n",
       "  </tbody>\n",
       "</table>\n",
       "<p>2000 rows × 3 columns</p>\n",
       "</div>"
      ],
      "text/plain": [
       "      correto    previsto  diferenca correto-previsto\n",
       "0        81.0   82.785305                   -1.785305\n",
       "1       179.0  156.115406                   22.884594\n",
       "2       132.2  136.010148                   -3.810148\n",
       "3       182.2  181.602061                    0.597939\n",
       "4        94.0  100.865929                   -6.865929\n",
       "...       ...         ...                         ...\n",
       "1995    164.0  164.457382                   -0.457382\n",
       "1996     69.4   77.940969                   -8.540969\n",
       "1997    195.5  200.571578                   -5.071578\n",
       "1998    528.3  521.787013                    6.512987\n",
       "1999    160.2  164.709196                   -4.509196\n",
       "\n",
       "[2000 rows x 3 columns]"
      ]
     },
     "execution_count": 56,
     "metadata": {},
     "output_type": "execute_result"
    }
   ],
   "source": [
    "pd.DataFrame(data={'correto': y_test.values, 'previsto': y_pred, 'diferenca correto-previsto': y_test.values-y_pred})"
   ]
  },
  {
   "cell_type": "code",
   "execution_count": 57,
   "id": "61125bb8",
   "metadata": {
    "ExecuteTime": {
     "end_time": "2021-09-15T22:06:08.925828Z",
     "start_time": "2021-09-15T22:06:08.911878Z"
    }
   },
   "outputs": [
    {
     "data": {
      "text/html": [
       "<div>\n",
       "<style scoped>\n",
       "    .dataframe tbody tr th:only-of-type {\n",
       "        vertical-align: middle;\n",
       "    }\n",
       "\n",
       "    .dataframe tbody tr th {\n",
       "        vertical-align: top;\n",
       "    }\n",
       "\n",
       "    .dataframe thead th {\n",
       "        text-align: right;\n",
       "    }\n",
       "</style>\n",
       "<table border=\"1\" class=\"dataframe\">\n",
       "  <thead>\n",
       "    <tr style=\"text-align: right;\">\n",
       "      <th></th>\n",
       "      <th>R2</th>\n",
       "      <th>MAE</th>\n",
       "      <th>MSE</th>\n",
       "      <th>RMSE</th>\n",
       "    </tr>\n",
       "  </thead>\n",
       "  <tbody>\n",
       "    <tr>\n",
       "      <th>SVR</th>\n",
       "      <td>0.950073</td>\n",
       "      <td>11.368167</td>\n",
       "      <td>1062.374186</td>\n",
       "      <td>32.594082</td>\n",
       "    </tr>\n",
       "  </tbody>\n",
       "</table>\n",
       "</div>"
      ],
      "text/plain": [
       "           R2        MAE          MSE       RMSE\n",
       "SVR  0.950073  11.368167  1062.374186  32.594082"
      ]
     },
     "execution_count": 57,
     "metadata": {},
     "output_type": "execute_result"
    }
   ],
   "source": [
    "r2_score = metrics.r2_score(y_test, y_pred)\n",
    "MAE = metrics.mean_absolute_error(y_test, y_pred)\n",
    "MSE = metrics.mean_squared_error(y_test, y_pred)\n",
    "RMSE = metrics.mean_squared_error(y_test, y_pred, squared=False)\n",
    "df_svr = pd.DataFrame(data={'R2': r2_score, 'MAE': MAE, 'MSE': MSE, 'RMSE': RMSE}, index=['SVR'])\n",
    "df_svr"
   ]
  },
  {
   "cell_type": "code",
   "execution_count": 58,
   "id": "bf6ae4e1",
   "metadata": {
    "ExecuteTime": {
     "end_time": "2021-09-15T22:06:09.509919Z",
     "start_time": "2021-09-15T22:06:09.350208Z"
    }
   },
   "outputs": [
    {
     "data": {
      "image/png": "[encoded data removed]",
      "text/plain": [
       "<Figure size 864x576 with 1 Axes>"
      ]
     },
     "metadata": {},
     "output_type": "display_data"
    }
   ],
   "source": [
    "pred_svr = pd.DataFrame(y_pred[:100])\n",
    "y_teste2 = pd.DataFrame(y_test.values[:100])\n",
    "plt.style.use(\"ggplot\")\n",
    "plt.figure(figsize=(12,8))\n",
    "plt.xlabel('..')\n",
    "plt.ylabel('Valor de Vendas')\n",
    "plt.title('Valores reais vs preditos')\n",
    "\n",
    "plt.plot(pred_svr, c='green')\n",
    "plt.plot(y_teste2)\n",
    "\n",
    "plt.legend(['Predições','Valores Reais'])\n",
    "plt.show()"
   ]
  },
  {
   "cell_type": "markdown",
   "id": "77a91e55",
   "metadata": {
    "ExecuteTime": {
     "end_time": "2021-09-14T03:02:08.086690Z",
     "start_time": "2021-09-14T03:02:07.820397Z"
    }
   },
   "source": [
    "# Gradient Boosting"
   ]
  },
  {
   "cell_type": "code",
   "execution_count": 59,
   "id": "91bce1ee",
   "metadata": {
    "ExecuteTime": {
     "end_time": "2021-09-15T22:06:12.663110Z",
     "start_time": "2021-09-15T22:06:12.477840Z"
    }
   },
   "outputs": [],
   "source": [
    "steps = [('sc', StandardScaler()), ('gbr', GradientBoostingRegressor(random_state=19))]\n",
    "pipe = Pipeline(steps=steps)\n",
    "pipe.fit(X_train, y_train)\n",
    "y_pred = pipe.predict(X_test)"
   ]
  },
  {
   "cell_type": "code",
   "execution_count": 60,
   "id": "5649ca6a",
   "metadata": {
    "ExecuteTime": {
     "end_time": "2021-09-15T22:06:13.216494Z",
     "start_time": "2021-09-15T22:06:13.193334Z"
    }
   },
   "outputs": [
    {
     "data": {
      "text/html": [
       "<div>\n",
       "<style scoped>\n",
       "    .dataframe tbody tr th:only-of-type {\n",
       "        vertical-align: middle;\n",
       "    }\n",
       "\n",
       "    .dataframe tbody tr th {\n",
       "        vertical-align: top;\n",
       "    }\n",
       "\n",
       "    .dataframe thead th {\n",
       "        text-align: right;\n",
       "    }\n",
       "</style>\n",
       "<table border=\"1\" class=\"dataframe\">\n",
       "  <thead>\n",
       "    <tr style=\"text-align: right;\">\n",
       "      <th></th>\n",
       "      <th>correto</th>\n",
       "      <th>previsto</th>\n",
       "      <th>diferenca correto-previsto</th>\n",
       "    </tr>\n",
       "  </thead>\n",
       "  <tbody>\n",
       "    <tr>\n",
       "      <th>0</th>\n",
       "      <td>81.0</td>\n",
       "      <td>77.605141</td>\n",
       "      <td>3.394859</td>\n",
       "    </tr>\n",
       "    <tr>\n",
       "      <th>1</th>\n",
       "      <td>179.0</td>\n",
       "      <td>154.624658</td>\n",
       "      <td>24.375342</td>\n",
       "    </tr>\n",
       "    <tr>\n",
       "      <th>2</th>\n",
       "      <td>132.2</td>\n",
       "      <td>132.512388</td>\n",
       "      <td>-0.312388</td>\n",
       "    </tr>\n",
       "    <tr>\n",
       "      <th>3</th>\n",
       "      <td>182.2</td>\n",
       "      <td>184.558761</td>\n",
       "      <td>-2.358761</td>\n",
       "    </tr>\n",
       "    <tr>\n",
       "      <th>4</th>\n",
       "      <td>94.0</td>\n",
       "      <td>102.572297</td>\n",
       "      <td>-8.572297</td>\n",
       "    </tr>\n",
       "    <tr>\n",
       "      <th>...</th>\n",
       "      <td>...</td>\n",
       "      <td>...</td>\n",
       "      <td>...</td>\n",
       "    </tr>\n",
       "    <tr>\n",
       "      <th>1995</th>\n",
       "      <td>164.0</td>\n",
       "      <td>166.947828</td>\n",
       "      <td>-2.947828</td>\n",
       "    </tr>\n",
       "    <tr>\n",
       "      <th>1996</th>\n",
       "      <td>69.4</td>\n",
       "      <td>76.196829</td>\n",
       "      <td>-6.796829</td>\n",
       "    </tr>\n",
       "    <tr>\n",
       "      <th>1997</th>\n",
       "      <td>195.5</td>\n",
       "      <td>207.999155</td>\n",
       "      <td>-12.499155</td>\n",
       "    </tr>\n",
       "    <tr>\n",
       "      <th>1998</th>\n",
       "      <td>528.3</td>\n",
       "      <td>580.593413</td>\n",
       "      <td>-52.293413</td>\n",
       "    </tr>\n",
       "    <tr>\n",
       "      <th>1999</th>\n",
       "      <td>160.2</td>\n",
       "      <td>177.064951</td>\n",
       "      <td>-16.864951</td>\n",
       "    </tr>\n",
       "  </tbody>\n",
       "</table>\n",
       "<p>2000 rows × 3 columns</p>\n",
       "</div>"
      ],
      "text/plain": [
       "      correto    previsto  diferenca correto-previsto\n",
       "0        81.0   77.605141                    3.394859\n",
       "1       179.0  154.624658                   24.375342\n",
       "2       132.2  132.512388                   -0.312388\n",
       "3       182.2  184.558761                   -2.358761\n",
       "4        94.0  102.572297                   -8.572297\n",
       "...       ...         ...                         ...\n",
       "1995    164.0  166.947828                   -2.947828\n",
       "1996     69.4   76.196829                   -6.796829\n",
       "1997    195.5  207.999155                  -12.499155\n",
       "1998    528.3  580.593413                  -52.293413\n",
       "1999    160.2  177.064951                  -16.864951\n",
       "\n",
       "[2000 rows x 3 columns]"
      ]
     },
     "execution_count": 60,
     "metadata": {},
     "output_type": "execute_result"
    }
   ],
   "source": [
    "pd.DataFrame(data={'correto': y_test.values, 'previsto': y_pred, 'diferenca correto-previsto': y_test.values-y_pred})"
   ]
  },
  {
   "cell_type": "code",
   "execution_count": 61,
   "id": "8edf9699",
   "metadata": {
    "ExecuteTime": {
     "end_time": "2021-09-15T22:06:13.693080Z",
     "start_time": "2021-09-15T22:06:13.679689Z"
    }
   },
   "outputs": [
    {
     "data": {
      "text/html": [
       "<div>\n",
       "<style scoped>\n",
       "    .dataframe tbody tr th:only-of-type {\n",
       "        vertical-align: middle;\n",
       "    }\n",
       "\n",
       "    .dataframe tbody tr th {\n",
       "        vertical-align: top;\n",
       "    }\n",
       "\n",
       "    .dataframe thead th {\n",
       "        text-align: right;\n",
       "    }\n",
       "</style>\n",
       "<table border=\"1\" class=\"dataframe\">\n",
       "  <thead>\n",
       "    <tr style=\"text-align: right;\">\n",
       "      <th></th>\n",
       "      <th>R2</th>\n",
       "      <th>MAE</th>\n",
       "      <th>MSE</th>\n",
       "      <th>RMSE</th>\n",
       "    </tr>\n",
       "  </thead>\n",
       "  <tbody>\n",
       "    <tr>\n",
       "      <th>GBoost</th>\n",
       "      <td>0.941152</td>\n",
       "      <td>11.324039</td>\n",
       "      <td>1252.200227</td>\n",
       "      <td>35.386441</td>\n",
       "    </tr>\n",
       "  </tbody>\n",
       "</table>\n",
       "</div>"
      ],
      "text/plain": [
       "              R2        MAE          MSE       RMSE\n",
       "GBoost  0.941152  11.324039  1252.200227  35.386441"
      ]
     },
     "execution_count": 61,
     "metadata": {},
     "output_type": "execute_result"
    }
   ],
   "source": [
    "r2_score = metrics.r2_score(y_test, y_pred)\n",
    "MAE = metrics.mean_absolute_error(y_test, y_pred)\n",
    "MSE = metrics.mean_squared_error(y_test, y_pred)\n",
    "RMSE = metrics.mean_squared_error(y_test, y_pred, squared=False)\n",
    "df_gboost = pd.DataFrame(data={'R2': r2_score, 'MAE': MAE, 'MSE': MSE, 'RMSE': RMSE}, index=['GBoost'])\n",
    "df_gboost"
   ]
  },
  {
   "cell_type": "code",
   "execution_count": 62,
   "id": "ddc8b6a4",
   "metadata": {
    "ExecuteTime": {
     "end_time": "2021-09-15T22:06:14.417079Z",
     "start_time": "2021-09-15T22:06:14.249719Z"
    }
   },
   "outputs": [
    {
     "data": {
      "image/png": "[encoded data removed]",
      "text/plain": [
       "<Figure size 864x576 with 1 Axes>"
      ]
     },
     "metadata": {},
     "output_type": "display_data"
    }
   ],
   "source": [
    "pred_gb = pd.DataFrame(y_pred[:100])\n",
    "y_teste2 = pd.DataFrame(y_test.values[:100])\n",
    "plt.style.use(\"ggplot\")\n",
    "plt.figure(figsize=(12,8))\n",
    "plt.xlabel('..')\n",
    "plt.ylabel('Valor de Vendas')\n",
    "plt.title('Valores reais vs preditos')\n",
    "\n",
    "plt.plot(pred_gb, c='green')\n",
    "plt.plot(y_teste2)\n",
    "\n",
    "plt.legend(['Predições','Valores Reais'])\n",
    "plt.show()"
   ]
  },
  {
   "cell_type": "markdown",
   "id": "aa5e19b2",
   "metadata": {},
   "source": [
    "# Conclusão"
   ]
  },
  {
   "cell_type": "code",
   "execution_count": 64,
   "id": "ab9218b7",
   "metadata": {
    "ExecuteTime": {
     "end_time": "2021-09-15T22:06:24.205173Z",
     "start_time": "2021-09-15T22:06:24.187838Z"
    }
   },
   "outputs": [
    {
     "data": {
      "text/html": [
       "<div>\n",
       "<style scoped>\n",
       "    .dataframe tbody tr th:only-of-type {\n",
       "        vertical-align: middle;\n",
       "    }\n",
       "\n",
       "    .dataframe tbody tr th {\n",
       "        vertical-align: top;\n",
       "    }\n",
       "\n",
       "    .dataframe thead th {\n",
       "        text-align: right;\n",
       "    }\n",
       "</style>\n",
       "<table border=\"1\" class=\"dataframe\">\n",
       "  <thead>\n",
       "    <tr style=\"text-align: right;\">\n",
       "      <th></th>\n",
       "      <th>R2</th>\n",
       "      <th>MAE</th>\n",
       "      <th>MSE</th>\n",
       "      <th>RMSE</th>\n",
       "    </tr>\n",
       "  </thead>\n",
       "  <tbody>\n",
       "    <tr>\n",
       "      <th>Linear Regression</th>\n",
       "      <td>0.948212</td>\n",
       "      <td>13.211999</td>\n",
       "      <td>1101.961178</td>\n",
       "      <td>33.195801</td>\n",
       "    </tr>\n",
       "    <tr>\n",
       "      <th>Random Forest</th>\n",
       "      <td>0.915210</td>\n",
       "      <td>12.352327</td>\n",
       "      <td>1804.200189</td>\n",
       "      <td>42.475878</td>\n",
       "    </tr>\n",
       "    <tr>\n",
       "      <th>SVR</th>\n",
       "      <td>0.950073</td>\n",
       "      <td>11.368167</td>\n",
       "      <td>1062.374186</td>\n",
       "      <td>32.594082</td>\n",
       "    </tr>\n",
       "    <tr>\n",
       "      <th>GBoost</th>\n",
       "      <td>0.941152</td>\n",
       "      <td>11.324039</td>\n",
       "      <td>1252.200227</td>\n",
       "      <td>35.386441</td>\n",
       "    </tr>\n",
       "  </tbody>\n",
       "</table>\n",
       "</div>"
      ],
      "text/plain": [
       "                         R2        MAE          MSE       RMSE\n",
       "Linear Regression  0.948212  13.211999  1101.961178  33.195801\n",
       "Random Forest      0.915210  12.352327  1804.200189  42.475878\n",
       "SVR                0.950073  11.368167  1062.374186  32.594082\n",
       "GBoost             0.941152  11.324039  1252.200227  35.386441"
      ]
     },
     "execution_count": 64,
     "metadata": {},
     "output_type": "execute_result"
    }
   ],
   "source": [
    "df_metricas = pd.concat([df_lr, df_rf, df_svr, df_gboost])\n",
    "df_metricas"
   ]
  },
  {
   "cell_type": "markdown",
   "id": "41343551",
   "metadata": {
    "ExecuteTime": {
     "end_time": "2021-09-15T22:07:06.285654Z",
     "start_time": "2021-09-15T22:07:06.272765Z"
    }
   },
   "source": [
    "Comparando os resultados obtidos entre os 4 modelos selecionados, o que teve o melhor resultado foi o <b>SVR</b>\n",
    "com um R2 de 0.95, MAE de 11.36, MSE de 1062.37 e RMSE de 32.59."
   ]
  },
  {
   "cell_type": "code",
   "execution_count": null,
   "id": "639f02d3",
   "metadata": {},
   "outputs": [],
   "source": []
  }
 ],
 "metadata": {
  "kernelspec": {
   "display_name": "Python 3",
   "language": "python",
   "name": "python3"
  },
  "language_info": {
   "codemirror_mode": {
    "name": "ipython",
    "version": 3
   },
   "file_extension": ".py",
   "mimetype": "text/x-python",
   "name": "python",
   "nbconvert_exporter": "python",
   "pygments_lexer": "ipython3",
   "version": "3.8.8"
  },
  "toc": {
   "base_numbering": 1,
   "nav_menu": {},
   "number_sections": true,
   "sideBar": true,
   "skip_h1_title": false,
   "title_cell": "Table of Contents",
   "title_sidebar": "Contents",
   "toc_cell": false,
   "toc_position": {
    "height": "calc(100% - 180px)",
    "left": "10px",
    "top": "150px",
    "width": "223.651px"
   },
   "toc_section_display": true,
   "toc_window_display": true
  }
 },
 "nbformat": 4,
 "nbformat_minor": 5
}
